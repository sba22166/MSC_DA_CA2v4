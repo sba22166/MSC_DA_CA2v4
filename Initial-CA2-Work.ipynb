{
 "cells": [
  {
   "cell_type": "code",
   "execution_count": 22,
   "id": "ac3e0e66",
   "metadata": {},
   "outputs": [],
   "source": [
    "import pandas as pd\n",
    "import numpy as np \n",
    "import warnings\n",
    "import seaborn as sns \n",
    "import matplotlib.pyplot as plt\n",
    "import plotly.express as px # Imported for GANNT chart creation.\n",
    "import matplotlib.offsetbox as offsetbox\n",
    "import matplotlib.image as image\n",
    "from matplotlib.text import Text\n",
    "warnings.filterwarnings('ignore')\n",
    "\n",
    "\n",
    "# importing for tweet parsing\n",
    "import os\n",
    "import json\n",
    "import bz2\n",
    "import csv"
   ]
  },
  {
   "cell_type": "markdown",
   "id": "84bb951f",
   "metadata": {},
   "source": [
    "# 1.1 Project Management"
   ]
  },
  {
   "cell_type": "markdown",
   "id": "2868c90f",
   "metadata": {},
   "source": [
    "This Project follows the CRISP-DM Project Management Principles.\n",
    "In order to demonstarate this a GANNT chart using Plotly's express libary (px)\n",
    "\n",
    "This initial chart will be compared to a completed one at the end of the project"
   ]
  },
  {
   "cell_type": "code",
   "execution_count": 30,
   "id": "1f18d531",
   "metadata": {},
   "outputs": [
    {
     "data": {
      "application/vnd.plotly.v1+json": {
       "config": {
        "plotlyServerURL": "https://plot.ly"
       },
       "data": [
        {
         "alignmentgroup": "True",
         "base": [
          "2023-05-07",
          "2023-05-09",
          "2023-05-13",
          "2023-05-15",
          "2023-05-17",
          "2023-05-19",
          "2023-05-20",
          "2023-05-21",
          "2023-05-21",
          "2023-05-23",
          "2023-05-25"
         ],
         "hovertemplate": "Start=%{base}<br>Finish=%{x}<br>Task=%{y}<br>Percentage_Completed=%{marker.color}<extra></extra>",
         "legendgroup": "",
         "marker": {
          "color": [
           100,
           100,
           100,
           100,
           100,
           100,
           100,
           100,
           100,
           100,
           100
          ],
          "coloraxis": "coloraxis"
         },
         "name": "",
         "offsetgroup": "",
         "orientation": "h",
         "showlegend": false,
         "textposition": "auto",
         "type": "bar",
         "x": [
          86400000,
          259200000,
          86400000,
          86400000,
          86400000,
          86400000,
          86400000,
          0,
          86400000,
          86400000,
          86400000
         ],
         "xaxis": "x",
         "y": [
          "GitHub Configuration",
          "Get twitter dataset",
          "Distriubuted Data Processing Enviornment",
          "Store data in SQL/NoSQL Database",
          "Follow up analysis on on the output data",
          "Testing Strategy - YCSB",
          "Sentiment Extraction",
          "Time Series forecasting",
          "Interactive Dashboard Setup",
          "Report",
          "Submission"
         ],
         "yaxis": "y"
        }
       ],
       "layout": {
        "barmode": "overlay",
        "coloraxis": {
         "colorbar": {
          "title": {
           "text": "Percentage_Completed"
          }
         },
         "colorscale": [
          [
           0,
           "#0d0887"
          ],
          [
           0.1111111111111111,
           "#46039f"
          ],
          [
           0.2222222222222222,
           "#7201a8"
          ],
          [
           0.3333333333333333,
           "#9c179e"
          ],
          [
           0.4444444444444444,
           "#bd3786"
          ],
          [
           0.5555555555555556,
           "#d8576b"
          ],
          [
           0.6666666666666666,
           "#ed7953"
          ],
          [
           0.7777777777777778,
           "#fb9f3a"
          ],
          [
           0.8888888888888888,
           "#fdca26"
          ],
          [
           1,
           "#f0f921"
          ]
         ]
        },
        "legend": {
         "tracegroupgap": 0
        },
        "margin": {
         "t": 60
        },
        "template": {
         "data": {
          "bar": [
           {
            "error_x": {
             "color": "#2a3f5f"
            },
            "error_y": {
             "color": "#2a3f5f"
            },
            "marker": {
             "line": {
              "color": "#E5ECF6",
              "width": 0.5
             },
             "pattern": {
              "fillmode": "overlay",
              "size": 10,
              "solidity": 0.2
             }
            },
            "type": "bar"
           }
          ],
          "barpolar": [
           {
            "marker": {
             "line": {
              "color": "#E5ECF6",
              "width": 0.5
             },
             "pattern": {
              "fillmode": "overlay",
              "size": 10,
              "solidity": 0.2
             }
            },
            "type": "barpolar"
           }
          ],
          "carpet": [
           {
            "aaxis": {
             "endlinecolor": "#2a3f5f",
             "gridcolor": "white",
             "linecolor": "white",
             "minorgridcolor": "white",
             "startlinecolor": "#2a3f5f"
            },
            "baxis": {
             "endlinecolor": "#2a3f5f",
             "gridcolor": "white",
             "linecolor": "white",
             "minorgridcolor": "white",
             "startlinecolor": "#2a3f5f"
            },
            "type": "carpet"
           }
          ],
          "choropleth": [
           {
            "colorbar": {
             "outlinewidth": 0,
             "ticks": ""
            },
            "type": "choropleth"
           }
          ],
          "contour": [
           {
            "colorbar": {
             "outlinewidth": 0,
             "ticks": ""
            },
            "colorscale": [
             [
              0,
              "#0d0887"
             ],
             [
              0.1111111111111111,
              "#46039f"
             ],
             [
              0.2222222222222222,
              "#7201a8"
             ],
             [
              0.3333333333333333,
              "#9c179e"
             ],
             [
              0.4444444444444444,
              "#bd3786"
             ],
             [
              0.5555555555555556,
              "#d8576b"
             ],
             [
              0.6666666666666666,
              "#ed7953"
             ],
             [
              0.7777777777777778,
              "#fb9f3a"
             ],
             [
              0.8888888888888888,
              "#fdca26"
             ],
             [
              1,
              "#f0f921"
             ]
            ],
            "type": "contour"
           }
          ],
          "contourcarpet": [
           {
            "colorbar": {
             "outlinewidth": 0,
             "ticks": ""
            },
            "type": "contourcarpet"
           }
          ],
          "heatmap": [
           {
            "colorbar": {
             "outlinewidth": 0,
             "ticks": ""
            },
            "colorscale": [
             [
              0,
              "#0d0887"
             ],
             [
              0.1111111111111111,
              "#46039f"
             ],
             [
              0.2222222222222222,
              "#7201a8"
             ],
             [
              0.3333333333333333,
              "#9c179e"
             ],
             [
              0.4444444444444444,
              "#bd3786"
             ],
             [
              0.5555555555555556,
              "#d8576b"
             ],
             [
              0.6666666666666666,
              "#ed7953"
             ],
             [
              0.7777777777777778,
              "#fb9f3a"
             ],
             [
              0.8888888888888888,
              "#fdca26"
             ],
             [
              1,
              "#f0f921"
             ]
            ],
            "type": "heatmap"
           }
          ],
          "heatmapgl": [
           {
            "colorbar": {
             "outlinewidth": 0,
             "ticks": ""
            },
            "colorscale": [
             [
              0,
              "#0d0887"
             ],
             [
              0.1111111111111111,
              "#46039f"
             ],
             [
              0.2222222222222222,
              "#7201a8"
             ],
             [
              0.3333333333333333,
              "#9c179e"
             ],
             [
              0.4444444444444444,
              "#bd3786"
             ],
             [
              0.5555555555555556,
              "#d8576b"
             ],
             [
              0.6666666666666666,
              "#ed7953"
             ],
             [
              0.7777777777777778,
              "#fb9f3a"
             ],
             [
              0.8888888888888888,
              "#fdca26"
             ],
             [
              1,
              "#f0f921"
             ]
            ],
            "type": "heatmapgl"
           }
          ],
          "histogram": [
           {
            "marker": {
             "pattern": {
              "fillmode": "overlay",
              "size": 10,
              "solidity": 0.2
             }
            },
            "type": "histogram"
           }
          ],
          "histogram2d": [
           {
            "colorbar": {
             "outlinewidth": 0,
             "ticks": ""
            },
            "colorscale": [
             [
              0,
              "#0d0887"
             ],
             [
              0.1111111111111111,
              "#46039f"
             ],
             [
              0.2222222222222222,
              "#7201a8"
             ],
             [
              0.3333333333333333,
              "#9c179e"
             ],
             [
              0.4444444444444444,
              "#bd3786"
             ],
             [
              0.5555555555555556,
              "#d8576b"
             ],
             [
              0.6666666666666666,
              "#ed7953"
             ],
             [
              0.7777777777777778,
              "#fb9f3a"
             ],
             [
              0.8888888888888888,
              "#fdca26"
             ],
             [
              1,
              "#f0f921"
             ]
            ],
            "type": "histogram2d"
           }
          ],
          "histogram2dcontour": [
           {
            "colorbar": {
             "outlinewidth": 0,
             "ticks": ""
            },
            "colorscale": [
             [
              0,
              "#0d0887"
             ],
             [
              0.1111111111111111,
              "#46039f"
             ],
             [
              0.2222222222222222,
              "#7201a8"
             ],
             [
              0.3333333333333333,
              "#9c179e"
             ],
             [
              0.4444444444444444,
              "#bd3786"
             ],
             [
              0.5555555555555556,
              "#d8576b"
             ],
             [
              0.6666666666666666,
              "#ed7953"
             ],
             [
              0.7777777777777778,
              "#fb9f3a"
             ],
             [
              0.8888888888888888,
              "#fdca26"
             ],
             [
              1,
              "#f0f921"
             ]
            ],
            "type": "histogram2dcontour"
           }
          ],
          "mesh3d": [
           {
            "colorbar": {
             "outlinewidth": 0,
             "ticks": ""
            },
            "type": "mesh3d"
           }
          ],
          "parcoords": [
           {
            "line": {
             "colorbar": {
              "outlinewidth": 0,
              "ticks": ""
             }
            },
            "type": "parcoords"
           }
          ],
          "pie": [
           {
            "automargin": true,
            "type": "pie"
           }
          ],
          "scatter": [
           {
            "marker": {
             "colorbar": {
              "outlinewidth": 0,
              "ticks": ""
             }
            },
            "type": "scatter"
           }
          ],
          "scatter3d": [
           {
            "line": {
             "colorbar": {
              "outlinewidth": 0,
              "ticks": ""
             }
            },
            "marker": {
             "colorbar": {
              "outlinewidth": 0,
              "ticks": ""
             }
            },
            "type": "scatter3d"
           }
          ],
          "scattercarpet": [
           {
            "marker": {
             "colorbar": {
              "outlinewidth": 0,
              "ticks": ""
             }
            },
            "type": "scattercarpet"
           }
          ],
          "scattergeo": [
           {
            "marker": {
             "colorbar": {
              "outlinewidth": 0,
              "ticks": ""
             }
            },
            "type": "scattergeo"
           }
          ],
          "scattergl": [
           {
            "marker": {
             "colorbar": {
              "outlinewidth": 0,
              "ticks": ""
             }
            },
            "type": "scattergl"
           }
          ],
          "scattermapbox": [
           {
            "marker": {
             "colorbar": {
              "outlinewidth": 0,
              "ticks": ""
             }
            },
            "type": "scattermapbox"
           }
          ],
          "scatterpolar": [
           {
            "marker": {
             "colorbar": {
              "outlinewidth": 0,
              "ticks": ""
             }
            },
            "type": "scatterpolar"
           }
          ],
          "scatterpolargl": [
           {
            "marker": {
             "colorbar": {
              "outlinewidth": 0,
              "ticks": ""
             }
            },
            "type": "scatterpolargl"
           }
          ],
          "scatterternary": [
           {
            "marker": {
             "colorbar": {
              "outlinewidth": 0,
              "ticks": ""
             }
            },
            "type": "scatterternary"
           }
          ],
          "surface": [
           {
            "colorbar": {
             "outlinewidth": 0,
             "ticks": ""
            },
            "colorscale": [
             [
              0,
              "#0d0887"
             ],
             [
              0.1111111111111111,
              "#46039f"
             ],
             [
              0.2222222222222222,
              "#7201a8"
             ],
             [
              0.3333333333333333,
              "#9c179e"
             ],
             [
              0.4444444444444444,
              "#bd3786"
             ],
             [
              0.5555555555555556,
              "#d8576b"
             ],
             [
              0.6666666666666666,
              "#ed7953"
             ],
             [
              0.7777777777777778,
              "#fb9f3a"
             ],
             [
              0.8888888888888888,
              "#fdca26"
             ],
             [
              1,
              "#f0f921"
             ]
            ],
            "type": "surface"
           }
          ],
          "table": [
           {
            "cells": {
             "fill": {
              "color": "#EBF0F8"
             },
             "line": {
              "color": "white"
             }
            },
            "header": {
             "fill": {
              "color": "#C8D4E3"
             },
             "line": {
              "color": "white"
             }
            },
            "type": "table"
           }
          ]
         },
         "layout": {
          "annotationdefaults": {
           "arrowcolor": "#2a3f5f",
           "arrowhead": 0,
           "arrowwidth": 1
          },
          "autotypenumbers": "strict",
          "coloraxis": {
           "colorbar": {
            "outlinewidth": 0,
            "ticks": ""
           }
          },
          "colorscale": {
           "diverging": [
            [
             0,
             "#8e0152"
            ],
            [
             0.1,
             "#c51b7d"
            ],
            [
             0.2,
             "#de77ae"
            ],
            [
             0.3,
             "#f1b6da"
            ],
            [
             0.4,
             "#fde0ef"
            ],
            [
             0.5,
             "#f7f7f7"
            ],
            [
             0.6,
             "#e6f5d0"
            ],
            [
             0.7,
             "#b8e186"
            ],
            [
             0.8,
             "#7fbc41"
            ],
            [
             0.9,
             "#4d9221"
            ],
            [
             1,
             "#276419"
            ]
           ],
           "sequential": [
            [
             0,
             "#0d0887"
            ],
            [
             0.1111111111111111,
             "#46039f"
            ],
            [
             0.2222222222222222,
             "#7201a8"
            ],
            [
             0.3333333333333333,
             "#9c179e"
            ],
            [
             0.4444444444444444,
             "#bd3786"
            ],
            [
             0.5555555555555556,
             "#d8576b"
            ],
            [
             0.6666666666666666,
             "#ed7953"
            ],
            [
             0.7777777777777778,
             "#fb9f3a"
            ],
            [
             0.8888888888888888,
             "#fdca26"
            ],
            [
             1,
             "#f0f921"
            ]
           ],
           "sequentialminus": [
            [
             0,
             "#0d0887"
            ],
            [
             0.1111111111111111,
             "#46039f"
            ],
            [
             0.2222222222222222,
             "#7201a8"
            ],
            [
             0.3333333333333333,
             "#9c179e"
            ],
            [
             0.4444444444444444,
             "#bd3786"
            ],
            [
             0.5555555555555556,
             "#d8576b"
            ],
            [
             0.6666666666666666,
             "#ed7953"
            ],
            [
             0.7777777777777778,
             "#fb9f3a"
            ],
            [
             0.8888888888888888,
             "#fdca26"
            ],
            [
             1,
             "#f0f921"
            ]
           ]
          },
          "colorway": [
           "#636efa",
           "#EF553B",
           "#00cc96",
           "#ab63fa",
           "#FFA15A",
           "#19d3f3",
           "#FF6692",
           "#B6E880",
           "#FF97FF",
           "#FECB52"
          ],
          "font": {
           "color": "#2a3f5f"
          },
          "geo": {
           "bgcolor": "white",
           "lakecolor": "white",
           "landcolor": "#E5ECF6",
           "showlakes": true,
           "showland": true,
           "subunitcolor": "white"
          },
          "hoverlabel": {
           "align": "left"
          },
          "hovermode": "closest",
          "mapbox": {
           "style": "light"
          },
          "paper_bgcolor": "white",
          "plot_bgcolor": "#E5ECF6",
          "polar": {
           "angularaxis": {
            "gridcolor": "white",
            "linecolor": "white",
            "ticks": ""
           },
           "bgcolor": "#E5ECF6",
           "radialaxis": {
            "gridcolor": "white",
            "linecolor": "white",
            "ticks": ""
           }
          },
          "scene": {
           "xaxis": {
            "backgroundcolor": "#E5ECF6",
            "gridcolor": "white",
            "gridwidth": 2,
            "linecolor": "white",
            "showbackground": true,
            "ticks": "",
            "zerolinecolor": "white"
           },
           "yaxis": {
            "backgroundcolor": "#E5ECF6",
            "gridcolor": "white",
            "gridwidth": 2,
            "linecolor": "white",
            "showbackground": true,
            "ticks": "",
            "zerolinecolor": "white"
           },
           "zaxis": {
            "backgroundcolor": "#E5ECF6",
            "gridcolor": "white",
            "gridwidth": 2,
            "linecolor": "white",
            "showbackground": true,
            "ticks": "",
            "zerolinecolor": "white"
           }
          },
          "shapedefaults": {
           "line": {
            "color": "#2a3f5f"
           }
          },
          "ternary": {
           "aaxis": {
            "gridcolor": "white",
            "linecolor": "white",
            "ticks": ""
           },
           "baxis": {
            "gridcolor": "white",
            "linecolor": "white",
            "ticks": ""
           },
           "bgcolor": "#E5ECF6",
           "caxis": {
            "gridcolor": "white",
            "linecolor": "white",
            "ticks": ""
           }
          },
          "title": {
           "x": 0.05
          },
          "xaxis": {
           "automargin": true,
           "gridcolor": "white",
           "linecolor": "white",
           "ticks": "",
           "title": {
            "standoff": 15
           },
           "zerolinecolor": "white",
           "zerolinewidth": 2
          },
          "yaxis": {
           "automargin": true,
           "gridcolor": "white",
           "linecolor": "white",
           "ticks": "",
           "title": {
            "standoff": 15
           },
           "zerolinecolor": "white",
           "zerolinewidth": 2
          }
         }
        },
        "title": {
         "text": " Initial CA2 GANNT Chart",
         "x": 0.5
        },
        "xaxis": {
         "anchor": "y",
         "domain": [
          0,
          1
         ],
         "type": "date"
        },
        "yaxis": {
         "anchor": "x",
         "domain": [
          0,
          1
         ],
         "title": {
          "text": "Task"
         }
        }
       }
      },
      "text/html": [
       "<div>                            <div id=\"c54d50c9-6e56-48bb-86c2-8858c30d3868\" class=\"plotly-graph-div\" style=\"height:525px; width:100%;\"></div>            <script type=\"text/javascript\">                require([\"plotly\"], function(Plotly) {                    window.PLOTLYENV=window.PLOTLYENV || {};                                    if (document.getElementById(\"c54d50c9-6e56-48bb-86c2-8858c30d3868\")) {                    Plotly.newPlot(                        \"c54d50c9-6e56-48bb-86c2-8858c30d3868\",                        [{\"alignmentgroup\":\"True\",\"base\":[\"2023-05-07\",\"2023-05-09\",\"2023-05-13\",\"2023-05-15\",\"2023-05-17\",\"2023-05-19\",\"2023-05-20\",\"2023-05-21\",\"2023-05-21\",\"2023-05-23\",\"2023-05-25\"],\"hovertemplate\":\"Start=%{base}<br>Finish=%{x}<br>Task=%{y}<br>Percentage_Completed=%{marker.color}<extra></extra>\",\"legendgroup\":\"\",\"marker\":{\"color\":[100,100,100,100,100,100,100,100,100,100,100],\"coloraxis\":\"coloraxis\"},\"name\":\"\",\"offsetgroup\":\"\",\"orientation\":\"h\",\"showlegend\":false,\"textposition\":\"auto\",\"x\":[86400000.0,259200000.0,86400000.0,86400000.0,86400000.0,86400000.0,86400000.0,0.0,86400000.0,86400000.0,86400000.0],\"xaxis\":\"x\",\"y\":[\"GitHub Configuration\",\"Get twitter dataset\",\"Distriubuted Data Processing Enviornment\",\"Store data in SQL/NoSQL Database\",\"Follow up analysis on on the output data\",\"Testing Strategy - YCSB\",\"Sentiment Extraction\",\"Time Series forecasting\",\"Interactive Dashboard Setup\",\"Report\",\"Submission\"],\"yaxis\":\"y\",\"type\":\"bar\"}],                        {\"template\":{\"data\":{\"bar\":[{\"error_x\":{\"color\":\"#2a3f5f\"},\"error_y\":{\"color\":\"#2a3f5f\"},\"marker\":{\"line\":{\"color\":\"#E5ECF6\",\"width\":0.5},\"pattern\":{\"fillmode\":\"overlay\",\"size\":10,\"solidity\":0.2}},\"type\":\"bar\"}],\"barpolar\":[{\"marker\":{\"line\":{\"color\":\"#E5ECF6\",\"width\":0.5},\"pattern\":{\"fillmode\":\"overlay\",\"size\":10,\"solidity\":0.2}},\"type\":\"barpolar\"}],\"carpet\":[{\"aaxis\":{\"endlinecolor\":\"#2a3f5f\",\"gridcolor\":\"white\",\"linecolor\":\"white\",\"minorgridcolor\":\"white\",\"startlinecolor\":\"#2a3f5f\"},\"baxis\":{\"endlinecolor\":\"#2a3f5f\",\"gridcolor\":\"white\",\"linecolor\":\"white\",\"minorgridcolor\":\"white\",\"startlinecolor\":\"#2a3f5f\"},\"type\":\"carpet\"}],\"choropleth\":[{\"colorbar\":{\"outlinewidth\":0,\"ticks\":\"\"},\"type\":\"choropleth\"}],\"contour\":[{\"colorbar\":{\"outlinewidth\":0,\"ticks\":\"\"},\"colorscale\":[[0.0,\"#0d0887\"],[0.1111111111111111,\"#46039f\"],[0.2222222222222222,\"#7201a8\"],[0.3333333333333333,\"#9c179e\"],[0.4444444444444444,\"#bd3786\"],[0.5555555555555556,\"#d8576b\"],[0.6666666666666666,\"#ed7953\"],[0.7777777777777778,\"#fb9f3a\"],[0.8888888888888888,\"#fdca26\"],[1.0,\"#f0f921\"]],\"type\":\"contour\"}],\"contourcarpet\":[{\"colorbar\":{\"outlinewidth\":0,\"ticks\":\"\"},\"type\":\"contourcarpet\"}],\"heatmap\":[{\"colorbar\":{\"outlinewidth\":0,\"ticks\":\"\"},\"colorscale\":[[0.0,\"#0d0887\"],[0.1111111111111111,\"#46039f\"],[0.2222222222222222,\"#7201a8\"],[0.3333333333333333,\"#9c179e\"],[0.4444444444444444,\"#bd3786\"],[0.5555555555555556,\"#d8576b\"],[0.6666666666666666,\"#ed7953\"],[0.7777777777777778,\"#fb9f3a\"],[0.8888888888888888,\"#fdca26\"],[1.0,\"#f0f921\"]],\"type\":\"heatmap\"}],\"heatmapgl\":[{\"colorbar\":{\"outlinewidth\":0,\"ticks\":\"\"},\"colorscale\":[[0.0,\"#0d0887\"],[0.1111111111111111,\"#46039f\"],[0.2222222222222222,\"#7201a8\"],[0.3333333333333333,\"#9c179e\"],[0.4444444444444444,\"#bd3786\"],[0.5555555555555556,\"#d8576b\"],[0.6666666666666666,\"#ed7953\"],[0.7777777777777778,\"#fb9f3a\"],[0.8888888888888888,\"#fdca26\"],[1.0,\"#f0f921\"]],\"type\":\"heatmapgl\"}],\"histogram\":[{\"marker\":{\"pattern\":{\"fillmode\":\"overlay\",\"size\":10,\"solidity\":0.2}},\"type\":\"histogram\"}],\"histogram2d\":[{\"colorbar\":{\"outlinewidth\":0,\"ticks\":\"\"},\"colorscale\":[[0.0,\"#0d0887\"],[0.1111111111111111,\"#46039f\"],[0.2222222222222222,\"#7201a8\"],[0.3333333333333333,\"#9c179e\"],[0.4444444444444444,\"#bd3786\"],[0.5555555555555556,\"#d8576b\"],[0.6666666666666666,\"#ed7953\"],[0.7777777777777778,\"#fb9f3a\"],[0.8888888888888888,\"#fdca26\"],[1.0,\"#f0f921\"]],\"type\":\"histogram2d\"}],\"histogram2dcontour\":[{\"colorbar\":{\"outlinewidth\":0,\"ticks\":\"\"},\"colorscale\":[[0.0,\"#0d0887\"],[0.1111111111111111,\"#46039f\"],[0.2222222222222222,\"#7201a8\"],[0.3333333333333333,\"#9c179e\"],[0.4444444444444444,\"#bd3786\"],[0.5555555555555556,\"#d8576b\"],[0.6666666666666666,\"#ed7953\"],[0.7777777777777778,\"#fb9f3a\"],[0.8888888888888888,\"#fdca26\"],[1.0,\"#f0f921\"]],\"type\":\"histogram2dcontour\"}],\"mesh3d\":[{\"colorbar\":{\"outlinewidth\":0,\"ticks\":\"\"},\"type\":\"mesh3d\"}],\"parcoords\":[{\"line\":{\"colorbar\":{\"outlinewidth\":0,\"ticks\":\"\"}},\"type\":\"parcoords\"}],\"pie\":[{\"automargin\":true,\"type\":\"pie\"}],\"scatter\":[{\"marker\":{\"colorbar\":{\"outlinewidth\":0,\"ticks\":\"\"}},\"type\":\"scatter\"}],\"scatter3d\":[{\"line\":{\"colorbar\":{\"outlinewidth\":0,\"ticks\":\"\"}},\"marker\":{\"colorbar\":{\"outlinewidth\":0,\"ticks\":\"\"}},\"type\":\"scatter3d\"}],\"scattercarpet\":[{\"marker\":{\"colorbar\":{\"outlinewidth\":0,\"ticks\":\"\"}},\"type\":\"scattercarpet\"}],\"scattergeo\":[{\"marker\":{\"colorbar\":{\"outlinewidth\":0,\"ticks\":\"\"}},\"type\":\"scattergeo\"}],\"scattergl\":[{\"marker\":{\"colorbar\":{\"outlinewidth\":0,\"ticks\":\"\"}},\"type\":\"scattergl\"}],\"scattermapbox\":[{\"marker\":{\"colorbar\":{\"outlinewidth\":0,\"ticks\":\"\"}},\"type\":\"scattermapbox\"}],\"scatterpolar\":[{\"marker\":{\"colorbar\":{\"outlinewidth\":0,\"ticks\":\"\"}},\"type\":\"scatterpolar\"}],\"scatterpolargl\":[{\"marker\":{\"colorbar\":{\"outlinewidth\":0,\"ticks\":\"\"}},\"type\":\"scatterpolargl\"}],\"scatterternary\":[{\"marker\":{\"colorbar\":{\"outlinewidth\":0,\"ticks\":\"\"}},\"type\":\"scatterternary\"}],\"surface\":[{\"colorbar\":{\"outlinewidth\":0,\"ticks\":\"\"},\"colorscale\":[[0.0,\"#0d0887\"],[0.1111111111111111,\"#46039f\"],[0.2222222222222222,\"#7201a8\"],[0.3333333333333333,\"#9c179e\"],[0.4444444444444444,\"#bd3786\"],[0.5555555555555556,\"#d8576b\"],[0.6666666666666666,\"#ed7953\"],[0.7777777777777778,\"#fb9f3a\"],[0.8888888888888888,\"#fdca26\"],[1.0,\"#f0f921\"]],\"type\":\"surface\"}],\"table\":[{\"cells\":{\"fill\":{\"color\":\"#EBF0F8\"},\"line\":{\"color\":\"white\"}},\"header\":{\"fill\":{\"color\":\"#C8D4E3\"},\"line\":{\"color\":\"white\"}},\"type\":\"table\"}]},\"layout\":{\"annotationdefaults\":{\"arrowcolor\":\"#2a3f5f\",\"arrowhead\":0,\"arrowwidth\":1},\"autotypenumbers\":\"strict\",\"coloraxis\":{\"colorbar\":{\"outlinewidth\":0,\"ticks\":\"\"}},\"colorscale\":{\"diverging\":[[0,\"#8e0152\"],[0.1,\"#c51b7d\"],[0.2,\"#de77ae\"],[0.3,\"#f1b6da\"],[0.4,\"#fde0ef\"],[0.5,\"#f7f7f7\"],[0.6,\"#e6f5d0\"],[0.7,\"#b8e186\"],[0.8,\"#7fbc41\"],[0.9,\"#4d9221\"],[1,\"#276419\"]],\"sequential\":[[0.0,\"#0d0887\"],[0.1111111111111111,\"#46039f\"],[0.2222222222222222,\"#7201a8\"],[0.3333333333333333,\"#9c179e\"],[0.4444444444444444,\"#bd3786\"],[0.5555555555555556,\"#d8576b\"],[0.6666666666666666,\"#ed7953\"],[0.7777777777777778,\"#fb9f3a\"],[0.8888888888888888,\"#fdca26\"],[1.0,\"#f0f921\"]],\"sequentialminus\":[[0.0,\"#0d0887\"],[0.1111111111111111,\"#46039f\"],[0.2222222222222222,\"#7201a8\"],[0.3333333333333333,\"#9c179e\"],[0.4444444444444444,\"#bd3786\"],[0.5555555555555556,\"#d8576b\"],[0.6666666666666666,\"#ed7953\"],[0.7777777777777778,\"#fb9f3a\"],[0.8888888888888888,\"#fdca26\"],[1.0,\"#f0f921\"]]},\"colorway\":[\"#636efa\",\"#EF553B\",\"#00cc96\",\"#ab63fa\",\"#FFA15A\",\"#19d3f3\",\"#FF6692\",\"#B6E880\",\"#FF97FF\",\"#FECB52\"],\"font\":{\"color\":\"#2a3f5f\"},\"geo\":{\"bgcolor\":\"white\",\"lakecolor\":\"white\",\"landcolor\":\"#E5ECF6\",\"showlakes\":true,\"showland\":true,\"subunitcolor\":\"white\"},\"hoverlabel\":{\"align\":\"left\"},\"hovermode\":\"closest\",\"mapbox\":{\"style\":\"light\"},\"paper_bgcolor\":\"white\",\"plot_bgcolor\":\"#E5ECF6\",\"polar\":{\"angularaxis\":{\"gridcolor\":\"white\",\"linecolor\":\"white\",\"ticks\":\"\"},\"bgcolor\":\"#E5ECF6\",\"radialaxis\":{\"gridcolor\":\"white\",\"linecolor\":\"white\",\"ticks\":\"\"}},\"scene\":{\"xaxis\":{\"backgroundcolor\":\"#E5ECF6\",\"gridcolor\":\"white\",\"gridwidth\":2,\"linecolor\":\"white\",\"showbackground\":true,\"ticks\":\"\",\"zerolinecolor\":\"white\"},\"yaxis\":{\"backgroundcolor\":\"#E5ECF6\",\"gridcolor\":\"white\",\"gridwidth\":2,\"linecolor\":\"white\",\"showbackground\":true,\"ticks\":\"\",\"zerolinecolor\":\"white\"},\"zaxis\":{\"backgroundcolor\":\"#E5ECF6\",\"gridcolor\":\"white\",\"gridwidth\":2,\"linecolor\":\"white\",\"showbackground\":true,\"ticks\":\"\",\"zerolinecolor\":\"white\"}},\"shapedefaults\":{\"line\":{\"color\":\"#2a3f5f\"}},\"ternary\":{\"aaxis\":{\"gridcolor\":\"white\",\"linecolor\":\"white\",\"ticks\":\"\"},\"baxis\":{\"gridcolor\":\"white\",\"linecolor\":\"white\",\"ticks\":\"\"},\"bgcolor\":\"#E5ECF6\",\"caxis\":{\"gridcolor\":\"white\",\"linecolor\":\"white\",\"ticks\":\"\"}},\"title\":{\"x\":0.05},\"xaxis\":{\"automargin\":true,\"gridcolor\":\"white\",\"linecolor\":\"white\",\"ticks\":\"\",\"title\":{\"standoff\":15},\"zerolinecolor\":\"white\",\"zerolinewidth\":2},\"yaxis\":{\"automargin\":true,\"gridcolor\":\"white\",\"linecolor\":\"white\",\"ticks\":\"\",\"title\":{\"standoff\":15},\"zerolinecolor\":\"white\",\"zerolinewidth\":2}}},\"xaxis\":{\"anchor\":\"y\",\"domain\":[0.0,1.0],\"type\":\"date\"},\"yaxis\":{\"anchor\":\"x\",\"domain\":[0.0,1.0],\"title\":{\"text\":\"Task\"}},\"coloraxis\":{\"colorbar\":{\"title\":{\"text\":\"Percentage_Completed\"}},\"colorscale\":[[0.0,\"#0d0887\"],[0.1111111111111111,\"#46039f\"],[0.2222222222222222,\"#7201a8\"],[0.3333333333333333,\"#9c179e\"],[0.4444444444444444,\"#bd3786\"],[0.5555555555555556,\"#d8576b\"],[0.6666666666666666,\"#ed7953\"],[0.7777777777777778,\"#fb9f3a\"],[0.8888888888888888,\"#fdca26\"],[1.0,\"#f0f921\"]]},\"legend\":{\"tracegroupgap\":0},\"margin\":{\"t\":60},\"barmode\":\"overlay\",\"title\":{\"text\":\" Initial CA2 GANNT Chart\",\"x\":0.5}},                        {\"responsive\": true}                    ).then(function(){\n",
       "                            \n",
       "var gd = document.getElementById('c54d50c9-6e56-48bb-86c2-8858c30d3868');\n",
       "var x = new MutationObserver(function (mutations, observer) {{\n",
       "        var display = window.getComputedStyle(gd).display;\n",
       "        if (!display || display === 'none') {{\n",
       "            console.log([gd, 'removed!']);\n",
       "            Plotly.purge(gd);\n",
       "            observer.disconnect();\n",
       "        }}\n",
       "}});\n",
       "\n",
       "// Listen for the removal of the full notebook cells\n",
       "var notebookContainer = gd.closest('#notebook-container');\n",
       "if (notebookContainer) {{\n",
       "    x.observe(notebookContainer, {childList: true});\n",
       "}}\n",
       "\n",
       "// Listen for the clearing of the current output cell\n",
       "var outputEl = gd.closest('.output');\n",
       "if (outputEl) {{\n",
       "    x.observe(outputEl, {childList: true});\n",
       "}}\n",
       "\n",
       "                        })                };                });            </script>        </div>"
      ]
     },
     "metadata": {},
     "output_type": "display_data"
    }
   ],
   "source": [
    "CA2_Gantt_Chart = pd.DataFrame([\n",
    "    dict(Task=\"GitHub Configuration\", Start='2023-05-07', Finish='2023-05-08', Percentage_Completed=100),\n",
    "    dict(Task=\"Get twitter dataset\", Start='2023-05-09', Finish='2023-05-12', Percentage_Completed=100),\n",
    "    dict(Task=\"Distriubuted Data Processing Enviornment\", Start='2023-05-13', Finish='2023-05-14',  Percentage_Completed=100),\n",
    "    dict(Task=\"Store data in SQL/NoSQL Database\", Start='2023-05-15', Finish='2023-05-16',Percentage_Completed=100),\n",
    "    dict(Task=\"Follow up analysis on on the output data\", Start='2023-05-17', Finish='2023-05-18', Percentage_Completed=100),\n",
    "    dict(Task=\"Testing Strategy - YCSB\", Start='2023-05-19', Finish='2023-05-20', Percentage_Completed=100),\n",
    "    dict(Task=\"Sentiment Extraction\", Start='2023-05-20', Finish='2023-05-21', Percentage_Completed=100),\n",
    "    dict(Task=\"Time Series forecasting\", Start='2023-05-21', Finish='2023-05-21', Percentage_Completed=100),\n",
    "    dict(Task=\"Interactive Dashboard Setup\", Start='2023-05-21', Finish='2023-05-22', Percentage_Completed=100),\n",
    "    dict(Task=\"Report\", Start='2023-05-23', Finish='2023-05-24', Percentage_Completed=100),\n",
    "    dict(Task=\"Submission\", Start='2023-05-25', Finish='2023-05-26',Percentage_Completed=100),\n",
    "])\n",
    "\n",
    "fig = px.timeline(CA2_Gantt_Chart, x_start=\"Start\", x_end=\"Finish\", y=\"Task\", color=\"Percentage_Completed\")\n",
    "# Title was not centred so used the below to centre to title layout.\n",
    "fig.update_layout(title_text=\" Initial CA2 GANNT Chart\", title_x=0.5)\n",
    "fig.show()"
   ]
  },
  {
   "cell_type": "markdown",
   "id": "8b015d90",
   "metadata": {},
   "source": [
    "This is a placeholder for the final GANNT Chart for the project. This will completed on completion date."
   ]
  },
  {
   "cell_type": "code",
   "execution_count": 3,
   "id": "989213ab",
   "metadata": {},
   "outputs": [],
   "source": [
    "#CA2_Gantt_Chart = pd.DataFrame([\n",
    "#    dict(Task=\"GitHub Configuration\", Start='2023-05-07', Finish='2023-05-08', Percentage_Completed=100),\n",
    "#    dict(Task=\"Get twitter dataset\", Start='2023-05-09', Finish='2023-05-12', Percentage_Completed=100),\n",
    "#    dict(Task=\"Distriubuted Data Processing Enviornment\", Start='2023-05-13', Finish='2023-05-14',  Percentage_Completed=100),\n",
    "#    dict(Task=\"Store data in SQL/NoSQL Database\", Start='2023-05-15', Finish='2023-05-16',Percentage_Completed=100),\n",
    "#    dict(Task=\"Follow up analysis on on the output data\", Start='2023-05-17', Finish='2023-05-18', Percentage_Completed=100),\n",
    "#    dict(Task=\"Testing Strategy - YCSB\", Start='2023-05-19', Finish='2023-05-20', Percentage_Completed=100),\n",
    "#    dict(Task=\"Sentiment Extraction\", Start='2023-05-20', Finish='2023-05-21', Percentage_Completed=100),\n",
    "#    dict(Task=\"Time Series forecasting\", Start='2023-05-21', Finish='2023-05-21', Percentage_Completed=100),\n",
    "#    dict(Task=\"Interactive Dashboard Setup\", Start='2023-05-21', Finish='2023-05-22', Percentage_Completed=100),\n",
    "#    dict(Task=\"Report\", Start='2023-05-23', Finish='2023-05-24', Percentage_Completed=100),\n",
    "#    dict(Task=\"Submission\", Start='2023-05-25', Finish='2023-05-26',Percentage_Completed=100),\n",
    "#])\n",
    "\n",
    "#fig = px.timeline(CA2_Gantt_Chart, x_start=\"Start\", x_end=\"Finish\", y=\"Task\", color=\"Percentage_Completed\")\n",
    "# Title was not centred so used the below to centre to title layout.\n",
    "#fig.update_layout(title_text=\" Initial CA2 GANNT Chart\", title_x=0.5)\n",
    "fig.show()"
   ]
  },
  {
   "cell_type": "markdown",
   "id": "890fd4cc",
   "metadata": {},
   "source": [
    "# 1.2 Data retrieval"
   ]
  },
  {
   "cell_type": "markdown",
   "id": "cbb9ea95",
   "metadata": {},
   "source": [
    "## 1.2.1 Assignment links"
   ]
  },
  {
   "cell_type": "markdown",
   "id": "7cddfb23",
   "metadata": {},
   "source": [
    "This section I am testing some possible datasets to be used for the project"
   ]
  },
  {
   "cell_type": "markdown",
   "id": "9a41d848",
   "metadata": {},
   "source": [
    "Both of the below required an API key, which I currently do not have have\n",
    "\n",
    "https://datascienceparichay.com/article/get-data-from-twitter-api-in-python-step-by-step-guide/    \n",
    "\n",
    "https://www.toptal.com/apache/apache-spark-streaming-twitter\n",
    "    \n",
    "\n",
    "This was attempted, but server was too slow, almost 1.2 days per file download ( 1 months data )\n",
    "https://archive.org/details/twitterstream?sort=-publicdate\n",
    "\n",
    "\n",
    "Due to slowness in the download from the server, I attempted to download a mon\n"
   ]
  },
  {
   "cell_type": "markdown",
   "id": "a24550e6",
   "metadata": {},
   "source": [
    "## 1.2.2 Alternative Data sources"
   ]
  },
  {
   "cell_type": "markdown",
   "id": "1458c026",
   "metadata": {},
   "source": [
    "Another possible dataset was found on Kaggle.com : \n",
    "    \n",
    "https://www.kaggle.com/datasets/prathamsharma123/farmers-protest-tweets-dataset-csv?resource=download\n",
    "    \n",
    "    \n",
    "Now lets take a quick look at if this data will be sufficient.\n",
    "\n",
    "For the assignment, 1 year of tweets is required on a certain topic"
   ]
  },
  {
   "cell_type": "code",
   "execution_count": 18,
   "id": "1d0876eb",
   "metadata": {},
   "outputs": [],
   "source": [
    "# reading in the dataset downloaded from Kaggle, which is stored in my assignment folder\n",
    "test_df = pd.read_csv('/Users/adevane/Documents/AdvDA&BigData-FinalCA/MSC_DA_CA2v4/Datasets/archive/tweets.csv')"
   ]
  },
  {
   "cell_type": "code",
   "execution_count": 19,
   "id": "64ba72e8",
   "metadata": {},
   "outputs": [
    {
     "data": {
      "text/html": [
       "<div>\n",
       "<style scoped>\n",
       "    .dataframe tbody tr th:only-of-type {\n",
       "        vertical-align: middle;\n",
       "    }\n",
       "\n",
       "    .dataframe tbody tr th {\n",
       "        vertical-align: top;\n",
       "    }\n",
       "\n",
       "    .dataframe thead th {\n",
       "        text-align: right;\n",
       "    }\n",
       "</style>\n",
       "<table border=\"1\" class=\"dataframe\">\n",
       "  <thead>\n",
       "    <tr style=\"text-align: right;\">\n",
       "      <th></th>\n",
       "      <th>tweetUrl</th>\n",
       "      <th>date</th>\n",
       "      <th>renderedContent</th>\n",
       "      <th>tweetId</th>\n",
       "      <th>userId</th>\n",
       "      <th>replyCount</th>\n",
       "      <th>retweetCount</th>\n",
       "      <th>likeCount</th>\n",
       "      <th>quoteCount</th>\n",
       "      <th>source</th>\n",
       "      <th>media</th>\n",
       "      <th>retweetedTweet</th>\n",
       "      <th>quotedTweet</th>\n",
       "      <th>mentionedUsers</th>\n",
       "    </tr>\n",
       "  </thead>\n",
       "  <tbody>\n",
       "    <tr>\n",
       "      <th>0</th>\n",
       "      <td>https://twitter.com/ShashiRajbhar6/status/1376...</td>\n",
       "      <td>2021-03-30 03:33:46+00:00</td>\n",
       "      <td>Support 👇\\n\\n#FarmersProtest</td>\n",
       "      <td>1.376739e+18</td>\n",
       "      <td>1.015970e+18</td>\n",
       "      <td>0</td>\n",
       "      <td>0</td>\n",
       "      <td>0</td>\n",
       "      <td>0</td>\n",
       "      <td>&lt;a href=\"http://twitter.com/download/android\" ...</td>\n",
       "      <td>NaN</td>\n",
       "      <td>NaN</td>\n",
       "      <td>NaN</td>\n",
       "      <td>NaN</td>\n",
       "    </tr>\n",
       "    <tr>\n",
       "      <th>1</th>\n",
       "      <td>https://twitter.com/kaursuk06272818/status/137...</td>\n",
       "      <td>2021-03-30 03:33:23+00:00</td>\n",
       "      <td>Supporting farmers means supporting our countr...</td>\n",
       "      <td>1.376739e+18</td>\n",
       "      <td>1.332937e+18</td>\n",
       "      <td>0</td>\n",
       "      <td>0</td>\n",
       "      <td>0</td>\n",
       "      <td>0</td>\n",
       "      <td>&lt;a href=\"http://twitter.com/download/android\" ...</td>\n",
       "      <td>[{'previewUrl': 'https://pbs.twimg.com/media/E...</td>\n",
       "      <td>NaN</td>\n",
       "      <td>NaN</td>\n",
       "      <td>NaN</td>\n",
       "    </tr>\n",
       "    <tr>\n",
       "      <th>2</th>\n",
       "      <td>https://twitter.com/kaursuk06272818/status/137...</td>\n",
       "      <td>2021-03-30 03:31:00+00:00</td>\n",
       "      <td>Support farmers if you are related to food #St...</td>\n",
       "      <td>1.376739e+18</td>\n",
       "      <td>1.332937e+18</td>\n",
       "      <td>0</td>\n",
       "      <td>0</td>\n",
       "      <td>0</td>\n",
       "      <td>0</td>\n",
       "      <td>&lt;a href=\"http://twitter.com/download/android\" ...</td>\n",
       "      <td>[{'previewUrl': 'https://pbs.twimg.com/media/E...</td>\n",
       "      <td>NaN</td>\n",
       "      <td>NaN</td>\n",
       "      <td>NaN</td>\n",
       "    </tr>\n",
       "    <tr>\n",
       "      <th>3</th>\n",
       "      <td>https://twitter.com/SukhdevSingh_/status/13767...</td>\n",
       "      <td>2021-03-30 03:30:45+00:00</td>\n",
       "      <td>#StopHateAgainstFarmers support #FarmersProtes...</td>\n",
       "      <td>1.376739e+18</td>\n",
       "      <td>1.308357e+18</td>\n",
       "      <td>0</td>\n",
       "      <td>1</td>\n",
       "      <td>3</td>\n",
       "      <td>0</td>\n",
       "      <td>&lt;a href=\"http://twitter.com/download/android\" ...</td>\n",
       "      <td>NaN</td>\n",
       "      <td>NaN</td>\n",
       "      <td>NaN</td>\n",
       "      <td>NaN</td>\n",
       "    </tr>\n",
       "    <tr>\n",
       "      <th>4</th>\n",
       "      <td>https://twitter.com/Davidmu66668113/status/137...</td>\n",
       "      <td>2021-03-30 03:30:30+00:00</td>\n",
       "      <td>You hate farmers I hate you, \\nif you love the...</td>\n",
       "      <td>1.376739e+18</td>\n",
       "      <td>1.357312e+18</td>\n",
       "      <td>0</td>\n",
       "      <td>0</td>\n",
       "      <td>1</td>\n",
       "      <td>0</td>\n",
       "      <td>&lt;a href=\"http://twitter.com/download/android\" ...</td>\n",
       "      <td>NaN</td>\n",
       "      <td>NaN</td>\n",
       "      <td>NaN</td>\n",
       "      <td>NaN</td>\n",
       "    </tr>\n",
       "  </tbody>\n",
       "</table>\n",
       "</div>"
      ],
      "text/plain": [
       "                                            tweetUrl  \\\n",
       "0  https://twitter.com/ShashiRajbhar6/status/1376...   \n",
       "1  https://twitter.com/kaursuk06272818/status/137...   \n",
       "2  https://twitter.com/kaursuk06272818/status/137...   \n",
       "3  https://twitter.com/SukhdevSingh_/status/13767...   \n",
       "4  https://twitter.com/Davidmu66668113/status/137...   \n",
       "\n",
       "                        date  \\\n",
       "0  2021-03-30 03:33:46+00:00   \n",
       "1  2021-03-30 03:33:23+00:00   \n",
       "2  2021-03-30 03:31:00+00:00   \n",
       "3  2021-03-30 03:30:45+00:00   \n",
       "4  2021-03-30 03:30:30+00:00   \n",
       "\n",
       "                                     renderedContent       tweetId  \\\n",
       "0                       Support 👇\\n\\n#FarmersProtest  1.376739e+18   \n",
       "1  Supporting farmers means supporting our countr...  1.376739e+18   \n",
       "2  Support farmers if you are related to food #St...  1.376739e+18   \n",
       "3  #StopHateAgainstFarmers support #FarmersProtes...  1.376739e+18   \n",
       "4  You hate farmers I hate you, \\nif you love the...  1.376739e+18   \n",
       "\n",
       "         userId  replyCount  retweetCount  likeCount  quoteCount  \\\n",
       "0  1.015970e+18           0             0          0           0   \n",
       "1  1.332937e+18           0             0          0           0   \n",
       "2  1.332937e+18           0             0          0           0   \n",
       "3  1.308357e+18           0             1          3           0   \n",
       "4  1.357312e+18           0             0          1           0   \n",
       "\n",
       "                                              source  \\\n",
       "0  <a href=\"http://twitter.com/download/android\" ...   \n",
       "1  <a href=\"http://twitter.com/download/android\" ...   \n",
       "2  <a href=\"http://twitter.com/download/android\" ...   \n",
       "3  <a href=\"http://twitter.com/download/android\" ...   \n",
       "4  <a href=\"http://twitter.com/download/android\" ...   \n",
       "\n",
       "                                               media  retweetedTweet  \\\n",
       "0                                                NaN             NaN   \n",
       "1  [{'previewUrl': 'https://pbs.twimg.com/media/E...             NaN   \n",
       "2  [{'previewUrl': 'https://pbs.twimg.com/media/E...             NaN   \n",
       "3                                                NaN             NaN   \n",
       "4                                                NaN             NaN   \n",
       "\n",
       "  quotedTweet mentionedUsers  \n",
       "0         NaN            NaN  \n",
       "1         NaN            NaN  \n",
       "2         NaN            NaN  \n",
       "3         NaN            NaN  \n",
       "4         NaN            NaN  "
      ]
     },
     "execution_count": 19,
     "metadata": {},
     "output_type": "execute_result"
    }
   ],
   "source": [
    "test_df.head()# showing first 5 rows of dataset"
   ]
  },
  {
   "cell_type": "code",
   "execution_count": 20,
   "id": "14670990",
   "metadata": {},
   "outputs": [
    {
     "data": {
      "text/plain": [
       "(1084452, 14)"
      ]
     },
     "execution_count": 20,
     "metadata": {},
     "output_type": "execute_result"
    }
   ],
   "source": [
    "test_df.shape# simple print of the total rows and columns in the dataset\n",
    "\n",
    "#looks usuable , 14 unqiue columns, with over 1 million rows ( tweets )"
   ]
  },
  {
   "cell_type": "markdown",
   "id": "a1857ecc",
   "metadata": {},
   "source": [
    "Assignment requires we have 1 full year of data, lets create a simple check to do this"
   ]
  },
  {
   "cell_type": "code",
   "execution_count": 21,
   "id": "cc6deeb8",
   "metadata": {},
   "outputs": [
    {
     "name": "stdout",
     "output_type": "stream",
     "text": [
      "In this dataset we have tweets from:  2020-11-01 03:36:57+00:00  until :  2021-11-21 05:36:30+00:00\n"
     ]
    }
   ],
   "source": [
    "# Check the maximum and minimum values of the 'date' column\n",
    "end_of_tweets = test_df['date'].max()\n",
    "start_of_tweets = test_df['date'].min()\n",
    "\n",
    "print('In this dataset we have tweets from: ', start_of_tweets,' until : ', end_of_tweets)"
   ]
  },
  {
   "cell_type": "markdown",
   "id": "639838f1",
   "metadata": {},
   "source": [
    "This looks to be sufficent for our assignment criteria as there is 1 year and 20+ days here."
   ]
  },
  {
   "cell_type": "markdown",
   "id": "0c7bc112",
   "metadata": {},
   "source": [
    "For now, lets close this section, next steps is to decide on which datasets to use"
   ]
  },
  {
   "cell_type": "markdown",
   "id": "0283cc41",
   "metadata": {},
   "source": [
    "# 2.0 Downloading and Parsing Data"
   ]
  },
  {
   "cell_type": "markdown",
   "id": "e9a7245e",
   "metadata": {},
   "source": [
    "I decided to go ahead with the data from archive.org, focusing on 2018 as it was the first month I saw with 12 monhts available on the site"
   ]
  },
  {
   "cell_type": "markdown",
   "id": "320a56f5",
   "metadata": {},
   "source": [
    "I also used a torrent client, Transmission on my Macbook to download these files. \n",
    "\n",
    "When I checked download times of the TAR V Torrent, 23 hours V's 1hour, really helped me in making up my mind "
   ]
  },
  {
   "cell_type": "markdown",
   "id": "23a51b56",
   "metadata": {},
   "source": [
    "My plan was as follows:\n",
    "    \n",
    "    \n",
    "    - Download locally 1 month at a time\n",
    "    - Combine monthly days into 1 csv\n",
    "    - Parse the csv to only include tweets with certain word or hastag\n",
    "    - Save the final dataset which will be used for the project"
   ]
  },
  {
   "cell_type": "code",
   "execution_count": 25,
   "id": "aa4b106a",
   "metadata": {},
   "outputs": [],
   "source": [
    "# Path to my first months data\n",
    "data_directory = '/Users/adevane/Documents/AdvDA&BigData-FinalCA/MSC_DA_CA2v4/Datasets/2018/01'\n",
    "\n"
   ]
  },
  {
   "cell_type": "code",
   "execution_count": null,
   "id": "7ffb827e",
   "metadata": {},
   "outputs": [],
   "source": []
  }
 ],
 "metadata": {
  "kernelspec": {
   "display_name": "Python 3 (ipykernel)",
   "language": "python",
   "name": "python3"
  },
  "language_info": {
   "codemirror_mode": {
    "name": "ipython",
    "version": 3
   },
   "file_extension": ".py",
   "mimetype": "text/x-python",
   "name": "python",
   "nbconvert_exporter": "python",
   "pygments_lexer": "ipython3",
   "version": "3.9.12"
  }
 },
 "nbformat": 4,
 "nbformat_minor": 5
}
